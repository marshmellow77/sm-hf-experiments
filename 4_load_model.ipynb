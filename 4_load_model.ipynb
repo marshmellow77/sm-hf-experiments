{
 "cells": [
  {
   "cell_type": "code",
   "execution_count": 43,
   "id": "513e0f07",
   "metadata": {},
   "outputs": [],
   "source": [
    "!pip -q install --upgrade pip"
   ]
  },
  {
   "cell_type": "code",
   "execution_count": 44,
   "id": "ac344ac5",
   "metadata": {},
   "outputs": [],
   "source": [
    "!pip -q install --upgrade sagemaker"
   ]
  },
  {
   "cell_type": "code",
   "execution_count": 45,
   "id": "94186b95",
   "metadata": {},
   "outputs": [],
   "source": [
    "!pip -q install sagemaker-experiments "
   ]
  },
  {
   "cell_type": "code",
   "execution_count": 46,
   "id": "d27258f5",
   "metadata": {},
   "outputs": [],
   "source": [
    "!pip -q install --upgrade sagemaker-huggingface-inference-toolkit"
   ]
  },
  {
   "cell_type": "code",
   "execution_count": 47,
   "id": "e365a205",
   "metadata": {},
   "outputs": [],
   "source": [
    "from sagemaker.huggingface import HuggingFaceModel"
   ]
  },
  {
   "cell_type": "code",
   "execution_count": 48,
   "id": "7e409442",
   "metadata": {},
   "outputs": [],
   "source": [
    "from sagemaker.analytics import ExperimentAnalytics\n",
    "import sagemaker\n",
    "import boto3\n",
    "from sagemaker.session import Session\n",
    "from smexperiments.trial_component import TrialComponent"
   ]
  },
  {
   "cell_type": "code",
   "execution_count": 49,
   "id": "25b75f46",
   "metadata": {},
   "outputs": [],
   "source": [
    "import pandas as pd\n",
    "pd.set_option('display.max_columns', None)"
   ]
  },
  {
   "cell_type": "code",
   "execution_count": 50,
   "id": "868eeba8",
   "metadata": {},
   "outputs": [],
   "source": [
    "sess = boto3.Session()\n",
    "sm = boto3.client('sagemaker')"
   ]
  },
  {
   "cell_type": "code",
   "execution_count": 51,
   "id": "c5c95d75",
   "metadata": {},
   "outputs": [],
   "source": [
    "trial_component_analytics = ExperimentAnalytics(\n",
    "    sagemaker_session=Session(sess, sm), \n",
    "    experiment_name='nlp-classification-1626106647'\n",
    ")\n",
    "\n",
    "df_results = trial_component_analytics.dataframe()"
   ]
  },
  {
   "cell_type": "code",
   "execution_count": 52,
   "id": "d4936184",
   "metadata": {},
   "outputs": [
    {
     "data": {
      "text/html": [
       "<div>\n",
       "<style scoped>\n",
       "    .dataframe tbody tr th:only-of-type {\n",
       "        vertical-align: middle;\n",
       "    }\n",
       "\n",
       "    .dataframe tbody tr th {\n",
       "        vertical-align: top;\n",
       "    }\n",
       "\n",
       "    .dataframe thead th {\n",
       "        text-align: right;\n",
       "    }\n",
       "</style>\n",
       "<table border=\"1\" class=\"dataframe\">\n",
       "  <thead>\n",
       "    <tr style=\"text-align: right;\">\n",
       "      <th></th>\n",
       "      <th>TrialComponentName</th>\n",
       "      <th>DisplayName</th>\n",
       "      <th>SourceArn</th>\n",
       "      <th>SageMaker.ImageUri</th>\n",
       "      <th>SageMaker.InstanceCount</th>\n",
       "      <th>SageMaker.InstanceType</th>\n",
       "      <th>SageMaker.VolumeSizeInGB</th>\n",
       "      <th>epochs</th>\n",
       "      <th>model_name</th>\n",
       "      <th>sagemaker_container_log_level</th>\n",
       "      <th>sagemaker_job_name</th>\n",
       "      <th>sagemaker_program</th>\n",
       "      <th>sagemaker_region</th>\n",
       "      <th>sagemaker_submit_directory</th>\n",
       "      <th>train_batch_size</th>\n",
       "      <th>test:loss - Min</th>\n",
       "      <th>test:loss - Max</th>\n",
       "      <th>test:loss - Avg</th>\n",
       "      <th>test:loss - StdDev</th>\n",
       "      <th>test:loss - Last</th>\n",
       "      <th>test:loss - Count</th>\n",
       "      <th>test:f1 - Min</th>\n",
       "      <th>test:f1 - Max</th>\n",
       "      <th>test:f1 - Avg</th>\n",
       "      <th>test:f1 - StdDev</th>\n",
       "      <th>test:f1 - Last</th>\n",
       "      <th>test:f1 - Count</th>\n",
       "      <th>CrossEntropyLoss_output_0_GLOBAL - Min</th>\n",
       "      <th>CrossEntropyLoss_output_0_GLOBAL - Max</th>\n",
       "      <th>CrossEntropyLoss_output_0_GLOBAL - Avg</th>\n",
       "      <th>CrossEntropyLoss_output_0_GLOBAL - StdDev</th>\n",
       "      <th>CrossEntropyLoss_output_0_GLOBAL - Last</th>\n",
       "      <th>CrossEntropyLoss_output_0_GLOBAL - Count</th>\n",
       "      <th>test:recall - Min</th>\n",
       "      <th>test:recall - Max</th>\n",
       "      <th>test:recall - Avg</th>\n",
       "      <th>test:recall - StdDev</th>\n",
       "      <th>test:recall - Last</th>\n",
       "      <th>test:recall - Count</th>\n",
       "      <th>test:precision - Min</th>\n",
       "      <th>test:precision - Max</th>\n",
       "      <th>test:precision - Avg</th>\n",
       "      <th>test:precision - StdDev</th>\n",
       "      <th>test:precision - Last</th>\n",
       "      <th>test:precision - Count</th>\n",
       "      <th>test:accuracy - Min</th>\n",
       "      <th>test:accuracy - Max</th>\n",
       "      <th>test:accuracy - Avg</th>\n",
       "      <th>test:accuracy - StdDev</th>\n",
       "      <th>test:accuracy - Last</th>\n",
       "      <th>test:accuracy - Count</th>\n",
       "      <th>test - MediaType</th>\n",
       "      <th>test - Value</th>\n",
       "      <th>train - MediaType</th>\n",
       "      <th>train - Value</th>\n",
       "      <th>SageMaker.DebugHookOutput - MediaType</th>\n",
       "      <th>SageMaker.DebugHookOutput - Value</th>\n",
       "      <th>SageMaker.ModelArtifact - MediaType</th>\n",
       "      <th>SageMaker.ModelArtifact - Value</th>\n",
       "      <th>Trials</th>\n",
       "      <th>Experiments</th>\n",
       "    </tr>\n",
       "  </thead>\n",
       "  <tbody>\n",
       "    <tr>\n",
       "      <th>0</th>\n",
       "      <td>nlp-training-job-distilroberta-base-1626106648...</td>\n",
       "      <td>Training</td>\n",
       "      <td>arn:aws:sagemaker:eu-west-1:905847418383:train...</td>\n",
       "      <td>763104351884.dkr.ecr.eu-west-1.amazonaws.com/h...</td>\n",
       "      <td>1.0</td>\n",
       "      <td>ml.p3.2xlarge</td>\n",
       "      <td>30.0</td>\n",
       "      <td>2.0</td>\n",
       "      <td>\"distilroberta-base\"</td>\n",
       "      <td>20.0</td>\n",
       "      <td>\"nlp-training-job-distilroberta-base-1626106648\"</td>\n",
       "      <td>\"train.py\"</td>\n",
       "      <td>\"eu-west-1\"</td>\n",
       "      <td>\"s3://sagemaker-eu-west-1-905847418383/nlp-tra...</td>\n",
       "      <td>32.0</td>\n",
       "      <td>0.172068</td>\n",
       "      <td>0.208827</td>\n",
       "      <td>0.190448</td>\n",
       "      <td>0.025993</td>\n",
       "      <td>0.172068</td>\n",
       "      <td>2</td>\n",
       "      <td>0.926792</td>\n",
       "      <td>0.943036</td>\n",
       "      <td>0.934914</td>\n",
       "      <td>0.011486</td>\n",
       "      <td>0.943036</td>\n",
       "      <td>2</td>\n",
       "      <td>0.699906</td>\n",
       "      <td>0.699906</td>\n",
       "      <td>0.699906</td>\n",
       "      <td>0.0</td>\n",
       "      <td>0.699906</td>\n",
       "      <td>1</td>\n",
       "      <td>0.944633</td>\n",
       "      <td>0.966939</td>\n",
       "      <td>0.955786</td>\n",
       "      <td>0.015773</td>\n",
       "      <td>0.944633</td>\n",
       "      <td>2</td>\n",
       "      <td>0.889846</td>\n",
       "      <td>0.941445</td>\n",
       "      <td>0.915646</td>\n",
       "      <td>0.036486</td>\n",
       "      <td>0.941445</td>\n",
       "      <td>2</td>\n",
       "      <td>0.9233</td>\n",
       "      <td>0.9427</td>\n",
       "      <td>0.9330</td>\n",
       "      <td>0.013718</td>\n",
       "      <td>0.9427</td>\n",
       "      <td>2</td>\n",
       "      <td>None</td>\n",
       "      <td>s3://sagemaker-eu-west-1-905847418383/samples/...</td>\n",
       "      <td>None</td>\n",
       "      <td>s3://sagemaker-eu-west-1-905847418383/samples/...</td>\n",
       "      <td>None</td>\n",
       "      <td>s3://sagemaker-eu-west-1-905847418383/</td>\n",
       "      <td>None</td>\n",
       "      <td>s3://sagemaker-eu-west-1-905847418383/nlp-trai...</td>\n",
       "      <td>[nlp-trial-distilroberta-base-1626106648]</td>\n",
       "      <td>[nlp-classification-1626106647]</td>\n",
       "    </tr>\n",
       "    <tr>\n",
       "      <th>1</th>\n",
       "      <td>nlp-training-job-distilbert-base-uncased-16261...</td>\n",
       "      <td>Training</td>\n",
       "      <td>arn:aws:sagemaker:eu-west-1:905847418383:train...</td>\n",
       "      <td>763104351884.dkr.ecr.eu-west-1.amazonaws.com/h...</td>\n",
       "      <td>1.0</td>\n",
       "      <td>ml.p3.2xlarge</td>\n",
       "      <td>30.0</td>\n",
       "      <td>2.0</td>\n",
       "      <td>\"distilbert-base-uncased\"</td>\n",
       "      <td>20.0</td>\n",
       "      <td>\"nlp-training-job-distilbert-base-uncased-1626...</td>\n",
       "      <td>\"train.py\"</td>\n",
       "      <td>\"eu-west-1\"</td>\n",
       "      <td>\"s3://sagemaker-eu-west-1-905847418383/nlp-tra...</td>\n",
       "      <td>32.0</td>\n",
       "      <td>0.190021</td>\n",
       "      <td>0.225556</td>\n",
       "      <td>0.207788</td>\n",
       "      <td>0.025127</td>\n",
       "      <td>0.190021</td>\n",
       "      <td>2</td>\n",
       "      <td>0.914150</td>\n",
       "      <td>0.932620</td>\n",
       "      <td>0.923385</td>\n",
       "      <td>0.013060</td>\n",
       "      <td>0.932620</td>\n",
       "      <td>2</td>\n",
       "      <td>0.694372</td>\n",
       "      <td>0.694372</td>\n",
       "      <td>0.694372</td>\n",
       "      <td>0.0</td>\n",
       "      <td>0.694372</td>\n",
       "      <td>1</td>\n",
       "      <td>0.937263</td>\n",
       "      <td>0.958574</td>\n",
       "      <td>0.947919</td>\n",
       "      <td>0.015069</td>\n",
       "      <td>0.937263</td>\n",
       "      <td>2</td>\n",
       "      <td>0.873661</td>\n",
       "      <td>0.928022</td>\n",
       "      <td>0.900842</td>\n",
       "      <td>0.038439</td>\n",
       "      <td>0.928022</td>\n",
       "      <td>2</td>\n",
       "      <td>0.9096</td>\n",
       "      <td>0.9320</td>\n",
       "      <td>0.9208</td>\n",
       "      <td>0.015839</td>\n",
       "      <td>0.9320</td>\n",
       "      <td>2</td>\n",
       "      <td>None</td>\n",
       "      <td>s3://sagemaker-eu-west-1-905847418383/samples/...</td>\n",
       "      <td>None</td>\n",
       "      <td>s3://sagemaker-eu-west-1-905847418383/samples/...</td>\n",
       "      <td>None</td>\n",
       "      <td>s3://sagemaker-eu-west-1-905847418383/</td>\n",
       "      <td>None</td>\n",
       "      <td>s3://sagemaker-eu-west-1-905847418383/nlp-trai...</td>\n",
       "      <td>[nlp-trial-distilbert-base-uncased-1626106647]</td>\n",
       "      <td>[nlp-classification-1626106647]</td>\n",
       "    </tr>\n",
       "  </tbody>\n",
       "</table>\n",
       "</div>"
      ],
      "text/plain": [
       "                                  TrialComponentName DisplayName  \\\n",
       "0  nlp-training-job-distilroberta-base-1626106648...    Training   \n",
       "1  nlp-training-job-distilbert-base-uncased-16261...    Training   \n",
       "\n",
       "                                           SourceArn  \\\n",
       "0  arn:aws:sagemaker:eu-west-1:905847418383:train...   \n",
       "1  arn:aws:sagemaker:eu-west-1:905847418383:train...   \n",
       "\n",
       "                                  SageMaker.ImageUri  SageMaker.InstanceCount  \\\n",
       "0  763104351884.dkr.ecr.eu-west-1.amazonaws.com/h...                      1.0   \n",
       "1  763104351884.dkr.ecr.eu-west-1.amazonaws.com/h...                      1.0   \n",
       "\n",
       "  SageMaker.InstanceType  SageMaker.VolumeSizeInGB  epochs  \\\n",
       "0          ml.p3.2xlarge                      30.0     2.0   \n",
       "1          ml.p3.2xlarge                      30.0     2.0   \n",
       "\n",
       "                  model_name  sagemaker_container_log_level  \\\n",
       "0       \"distilroberta-base\"                           20.0   \n",
       "1  \"distilbert-base-uncased\"                           20.0   \n",
       "\n",
       "                                  sagemaker_job_name sagemaker_program  \\\n",
       "0   \"nlp-training-job-distilroberta-base-1626106648\"        \"train.py\"   \n",
       "1  \"nlp-training-job-distilbert-base-uncased-1626...        \"train.py\"   \n",
       "\n",
       "  sagemaker_region                         sagemaker_submit_directory  \\\n",
       "0      \"eu-west-1\"  \"s3://sagemaker-eu-west-1-905847418383/nlp-tra...   \n",
       "1      \"eu-west-1\"  \"s3://sagemaker-eu-west-1-905847418383/nlp-tra...   \n",
       "\n",
       "   train_batch_size  test:loss - Min  test:loss - Max  test:loss - Avg  \\\n",
       "0              32.0         0.172068         0.208827         0.190448   \n",
       "1              32.0         0.190021         0.225556         0.207788   \n",
       "\n",
       "   test:loss - StdDev  test:loss - Last  test:loss - Count  test:f1 - Min  \\\n",
       "0            0.025993          0.172068                  2       0.926792   \n",
       "1            0.025127          0.190021                  2       0.914150   \n",
       "\n",
       "   test:f1 - Max  test:f1 - Avg  test:f1 - StdDev  test:f1 - Last  \\\n",
       "0       0.943036       0.934914          0.011486        0.943036   \n",
       "1       0.932620       0.923385          0.013060        0.932620   \n",
       "\n",
       "   test:f1 - Count  CrossEntropyLoss_output_0_GLOBAL - Min  \\\n",
       "0                2                                0.699906   \n",
       "1                2                                0.694372   \n",
       "\n",
       "   CrossEntropyLoss_output_0_GLOBAL - Max  \\\n",
       "0                                0.699906   \n",
       "1                                0.694372   \n",
       "\n",
       "   CrossEntropyLoss_output_0_GLOBAL - Avg  \\\n",
       "0                                0.699906   \n",
       "1                                0.694372   \n",
       "\n",
       "   CrossEntropyLoss_output_0_GLOBAL - StdDev  \\\n",
       "0                                        0.0   \n",
       "1                                        0.0   \n",
       "\n",
       "   CrossEntropyLoss_output_0_GLOBAL - Last  \\\n",
       "0                                 0.699906   \n",
       "1                                 0.694372   \n",
       "\n",
       "   CrossEntropyLoss_output_0_GLOBAL - Count  test:recall - Min  \\\n",
       "0                                         1           0.944633   \n",
       "1                                         1           0.937263   \n",
       "\n",
       "   test:recall - Max  test:recall - Avg  test:recall - StdDev  \\\n",
       "0           0.966939           0.955786              0.015773   \n",
       "1           0.958574           0.947919              0.015069   \n",
       "\n",
       "   test:recall - Last  test:recall - Count  test:precision - Min  \\\n",
       "0            0.944633                    2              0.889846   \n",
       "1            0.937263                    2              0.873661   \n",
       "\n",
       "   test:precision - Max  test:precision - Avg  test:precision - StdDev  \\\n",
       "0              0.941445              0.915646                 0.036486   \n",
       "1              0.928022              0.900842                 0.038439   \n",
       "\n",
       "   test:precision - Last  test:precision - Count  test:accuracy - Min  \\\n",
       "0               0.941445                       2               0.9233   \n",
       "1               0.928022                       2               0.9096   \n",
       "\n",
       "   test:accuracy - Max  test:accuracy - Avg  test:accuracy - StdDev  \\\n",
       "0               0.9427               0.9330                0.013718   \n",
       "1               0.9320               0.9208                0.015839   \n",
       "\n",
       "   test:accuracy - Last  test:accuracy - Count test - MediaType  \\\n",
       "0                0.9427                      2             None   \n",
       "1                0.9320                      2             None   \n",
       "\n",
       "                                        test - Value train - MediaType  \\\n",
       "0  s3://sagemaker-eu-west-1-905847418383/samples/...              None   \n",
       "1  s3://sagemaker-eu-west-1-905847418383/samples/...              None   \n",
       "\n",
       "                                       train - Value  \\\n",
       "0  s3://sagemaker-eu-west-1-905847418383/samples/...   \n",
       "1  s3://sagemaker-eu-west-1-905847418383/samples/...   \n",
       "\n",
       "  SageMaker.DebugHookOutput - MediaType  \\\n",
       "0                                  None   \n",
       "1                                  None   \n",
       "\n",
       "        SageMaker.DebugHookOutput - Value SageMaker.ModelArtifact - MediaType  \\\n",
       "0  s3://sagemaker-eu-west-1-905847418383/                                None   \n",
       "1  s3://sagemaker-eu-west-1-905847418383/                                None   \n",
       "\n",
       "                     SageMaker.ModelArtifact - Value  \\\n",
       "0  s3://sagemaker-eu-west-1-905847418383/nlp-trai...   \n",
       "1  s3://sagemaker-eu-west-1-905847418383/nlp-trai...   \n",
       "\n",
       "                                           Trials  \\\n",
       "0       [nlp-trial-distilroberta-base-1626106648]   \n",
       "1  [nlp-trial-distilbert-base-uncased-1626106647]   \n",
       "\n",
       "                       Experiments  \n",
       "0  [nlp-classification-1626106647]  \n",
       "1  [nlp-classification-1626106647]  "
      ]
     },
     "execution_count": 52,
     "metadata": {},
     "output_type": "execute_result"
    }
   ],
   "source": [
    "df_results.head()"
   ]
  },
  {
   "cell_type": "code",
   "execution_count": 53,
   "id": "82c643ea",
   "metadata": {},
   "outputs": [
    {
     "data": {
      "text/html": [
       "<div>\n",
       "<style scoped>\n",
       "    .dataframe tbody tr th:only-of-type {\n",
       "        vertical-align: middle;\n",
       "    }\n",
       "\n",
       "    .dataframe tbody tr th {\n",
       "        vertical-align: top;\n",
       "    }\n",
       "\n",
       "    .dataframe thead th {\n",
       "        text-align: right;\n",
       "    }\n",
       "</style>\n",
       "<table border=\"1\" class=\"dataframe\">\n",
       "  <thead>\n",
       "    <tr style=\"text-align: right;\">\n",
       "      <th></th>\n",
       "      <th>model_name</th>\n",
       "      <th>test:f1 - Avg</th>\n",
       "      <th>test:recall - Avg</th>\n",
       "      <th>test:precision - Avg</th>\n",
       "      <th>test:accuracy - Avg</th>\n",
       "    </tr>\n",
       "  </thead>\n",
       "  <tbody>\n",
       "    <tr>\n",
       "      <th>0</th>\n",
       "      <td>\"distilroberta-base\"</td>\n",
       "      <td>0.934914</td>\n",
       "      <td>0.955786</td>\n",
       "      <td>0.915646</td>\n",
       "      <td>0.9330</td>\n",
       "    </tr>\n",
       "    <tr>\n",
       "      <th>1</th>\n",
       "      <td>\"distilbert-base-uncased\"</td>\n",
       "      <td>0.923385</td>\n",
       "      <td>0.947919</td>\n",
       "      <td>0.900842</td>\n",
       "      <td>0.9208</td>\n",
       "    </tr>\n",
       "  </tbody>\n",
       "</table>\n",
       "</div>"
      ],
      "text/plain": [
       "                  model_name  test:f1 - Avg  test:recall - Avg  \\\n",
       "0       \"distilroberta-base\"       0.934914           0.955786   \n",
       "1  \"distilbert-base-uncased\"       0.923385           0.947919   \n",
       "\n",
       "   test:precision - Avg  test:accuracy - Avg  \n",
       "0              0.915646               0.9330  \n",
       "1              0.900842               0.9208  "
      ]
     },
     "execution_count": 53,
     "metadata": {},
     "output_type": "execute_result"
    }
   ],
   "source": [
    "df_results[['model_name', 'test:f1 - Avg', 'test:recall - Avg', 'test:precision - Avg', 'test:accuracy - Avg']]"
   ]
  },
  {
   "cell_type": "code",
   "execution_count": 54,
   "id": "542750e6",
   "metadata": {},
   "outputs": [],
   "source": [
    "df_results = df_results.sort_values('test:accuracy - Avg', ascending=False)"
   ]
  },
  {
   "cell_type": "code",
   "execution_count": 55,
   "id": "6b493537",
   "metadata": {},
   "outputs": [
    {
     "data": {
      "text/plain": [
       "'nlp-training-job-distilroberta-base-1626106648-aws-training-job'"
      ]
     },
     "execution_count": 55,
     "metadata": {},
     "output_type": "execute_result"
    }
   ],
   "source": [
    "best_trial_component_name = df_results.iloc[0][\"TrialComponentName\"]\n",
    "best_trial_component_name"
   ]
  },
  {
   "cell_type": "code",
   "execution_count": 56,
   "id": "c5348c23",
   "metadata": {},
   "outputs": [
    {
     "data": {
      "text/plain": [
       "'s3://sagemaker-eu-west-1-905847418383/nlp-training-job-distilroberta-base-1626106648/output/model.tar.gz'"
      ]
     },
     "execution_count": 56,
     "metadata": {},
     "output_type": "execute_result"
    }
   ],
   "source": [
    "best_trial_component = TrialComponent.load(best_trial_component_name)\n",
    "model_data = best_trial_component.output_artifacts[\"SageMaker.ModelArtifact\"].value\n",
    "model_data"
   ]
  },
  {
   "cell_type": "code",
   "execution_count": 57,
   "id": "980f23c2",
   "metadata": {},
   "outputs": [
    {
     "data": {
      "text/plain": [
       "'arn:aws:iam::905847418383:role/service-role/AmazonSageMaker-ExecutionRole-20210706T044588'"
      ]
     },
     "execution_count": 57,
     "metadata": {},
     "output_type": "execute_result"
    }
   ],
   "source": [
    "role = sagemaker.get_execution_role()\n",
    "role"
   ]
  },
  {
   "cell_type": "code",
   "execution_count": 58,
   "id": "63a5197f",
   "metadata": {},
   "outputs": [],
   "source": [
    "from sagemaker.huggingface import HuggingFaceModel"
   ]
  },
  {
   "cell_type": "code",
   "execution_count": 59,
   "id": "f2caa8a0",
   "metadata": {},
   "outputs": [],
   "source": [
    "huggingface_model = HuggingFaceModel(\n",
    "    transformers_version=\"4.6\", # transformers version used\n",
    "    pytorch_version=\"1.7\", # pytorch version used\n",
    "    py_version=\"py36\", # python version of the DLC\n",
    "    model_data=model_data,\n",
    "    role=role,\n",
    ")"
   ]
  },
  {
   "cell_type": "code",
   "execution_count": 60,
   "id": "28941246",
   "metadata": {},
   "outputs": [
    {
     "name": "stdout",
     "output_type": "stream",
     "text": [
      "-------------!"
     ]
    }
   ],
   "source": [
    "predictor = huggingface_model.deploy(\n",
    "   initial_instance_count=1,\n",
    "   instance_type=\"ml.m5.xlarge\"\n",
    ")"
   ]
  },
  {
   "cell_type": "code",
   "execution_count": 61,
   "id": "2e81f0c1",
   "metadata": {},
   "outputs": [
    {
     "data": {
      "text/plain": [
       "[{'label': 'LABEL_1', 'score': 0.9977279305458069}]"
      ]
     },
     "execution_count": 61,
     "metadata": {},
     "output_type": "execute_result"
    }
   ],
   "source": [
    "sentiment_input= {\"inputs\": \"I love this movie.\"}\n",
    "predictor.predict(sentiment_input)"
   ]
  },
  {
   "cell_type": "code",
   "execution_count": 62,
   "id": "ca205b96",
   "metadata": {},
   "outputs": [],
   "source": [
    "predictor.delete_endpoint()"
   ]
  },
  {
   "cell_type": "code",
   "execution_count": null,
   "id": "23a22914",
   "metadata": {},
   "outputs": [],
   "source": []
  },
  {
   "cell_type": "code",
   "execution_count": null,
   "id": "b700356f",
   "metadata": {},
   "outputs": [],
   "source": []
  }
 ],
 "metadata": {
  "kernelspec": {
   "display_name": "conda_pytorch_latest_p36",
   "language": "python",
   "name": "conda_pytorch_latest_p36"
  },
  "language_info": {
   "codemirror_mode": {
    "name": "ipython",
    "version": 3
   },
   "file_extension": ".py",
   "mimetype": "text/x-python",
   "name": "python",
   "nbconvert_exporter": "python",
   "pygments_lexer": "ipython3",
   "version": "3.6.13"
  }
 },
 "nbformat": 4,
 "nbformat_minor": 5
}
